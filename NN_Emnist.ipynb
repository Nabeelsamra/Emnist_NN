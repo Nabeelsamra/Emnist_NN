{
  "nbformat": 4,
  "nbformat_minor": 0,
  "metadata": {
    "colab": {
      "name": "Untitled6.ipynb",
      "provenance": []
    },
    "kernelspec": {
      "name": "python3",
      "display_name": "Python 3"
    },
    "language_info": {
      "name": "python"
    },
    "widgets": {
      "application/vnd.jupyter.widget-state+json": {
        "2d65f0f235cc40e880022048023f3c81": {
          "model_module": "@jupyter-widgets/controls",
          "model_name": "HBoxModel",
          "model_module_version": "1.5.0",
          "state": {
            "_view_name": "HBoxView",
            "_dom_classes": [],
            "_model_name": "HBoxModel",
            "_view_module": "@jupyter-widgets/controls",
            "_model_module_version": "1.5.0",
            "_view_count": null,
            "_view_module_version": "1.5.0",
            "box_style": "",
            "layout": "IPY_MODEL_cced76a8efd14f80bf10fef5a65f8c24",
            "_model_module": "@jupyter-widgets/controls",
            "children": [
              "IPY_MODEL_b2f26765cc0747058a3b791dea024676",
              "IPY_MODEL_899f79414b774181865b8fe2a9c24666",
              "IPY_MODEL_1c255eb6e7d44f0b801e6d7636a3dc06"
            ]
          }
        },
        "cced76a8efd14f80bf10fef5a65f8c24": {
          "model_module": "@jupyter-widgets/base",
          "model_name": "LayoutModel",
          "model_module_version": "1.2.0",
          "state": {
            "_view_name": "LayoutView",
            "grid_template_rows": null,
            "right": null,
            "justify_content": null,
            "_view_module": "@jupyter-widgets/base",
            "overflow": null,
            "_model_module_version": "1.2.0",
            "_view_count": null,
            "flex_flow": null,
            "width": null,
            "min_width": null,
            "border": null,
            "align_items": null,
            "bottom": null,
            "_model_module": "@jupyter-widgets/base",
            "top": null,
            "grid_column": null,
            "overflow_y": null,
            "overflow_x": null,
            "grid_auto_flow": null,
            "grid_area": null,
            "grid_template_columns": null,
            "flex": null,
            "_model_name": "LayoutModel",
            "justify_items": null,
            "grid_row": null,
            "max_height": null,
            "align_content": null,
            "visibility": null,
            "align_self": null,
            "height": null,
            "min_height": null,
            "padding": null,
            "grid_auto_rows": null,
            "grid_gap": null,
            "max_width": null,
            "order": null,
            "_view_module_version": "1.2.0",
            "grid_template_areas": null,
            "object_position": null,
            "object_fit": null,
            "grid_auto_columns": null,
            "margin": null,
            "display": null,
            "left": null
          }
        },
        "b2f26765cc0747058a3b791dea024676": {
          "model_module": "@jupyter-widgets/controls",
          "model_name": "HTMLModel",
          "model_module_version": "1.5.0",
          "state": {
            "_view_name": "HTMLView",
            "style": "IPY_MODEL_bdce38b8353c49e9aaa845140f4a352d",
            "_dom_classes": [],
            "description": "",
            "_model_name": "HTMLModel",
            "placeholder": "​",
            "_view_module": "@jupyter-widgets/controls",
            "_model_module_version": "1.5.0",
            "value": "",
            "_view_count": null,
            "_view_module_version": "1.5.0",
            "description_tooltip": null,
            "_model_module": "@jupyter-widgets/controls",
            "layout": "IPY_MODEL_2f5fc1fc15864495a464db86337057de"
          }
        },
        "899f79414b774181865b8fe2a9c24666": {
          "model_module": "@jupyter-widgets/controls",
          "model_name": "FloatProgressModel",
          "model_module_version": "1.5.0",
          "state": {
            "_view_name": "ProgressView",
            "style": "IPY_MODEL_612b84cd3ccb41faaf8f398da26e5429",
            "_dom_classes": [],
            "description": "",
            "_model_name": "FloatProgressModel",
            "bar_style": "success",
            "max": 561753746,
            "_view_module": "@jupyter-widgets/controls",
            "_model_module_version": "1.5.0",
            "value": 561753746,
            "_view_count": null,
            "_view_module_version": "1.5.0",
            "orientation": "horizontal",
            "min": 0,
            "description_tooltip": null,
            "_model_module": "@jupyter-widgets/controls",
            "layout": "IPY_MODEL_bd95879671ac4d43837356ae5ff2b320"
          }
        },
        "1c255eb6e7d44f0b801e6d7636a3dc06": {
          "model_module": "@jupyter-widgets/controls",
          "model_name": "HTMLModel",
          "model_module_version": "1.5.0",
          "state": {
            "_view_name": "HTMLView",
            "style": "IPY_MODEL_f99a4290b2b445d4ba115fdee388179d",
            "_dom_classes": [],
            "description": "",
            "_model_name": "HTMLModel",
            "placeholder": "​",
            "_view_module": "@jupyter-widgets/controls",
            "_model_module_version": "1.5.0",
            "value": " 561754112/? [00:09&lt;00:00, 63966251.00it/s]",
            "_view_count": null,
            "_view_module_version": "1.5.0",
            "description_tooltip": null,
            "_model_module": "@jupyter-widgets/controls",
            "layout": "IPY_MODEL_c4b94bb170e94697b192208eceabe661"
          }
        },
        "bdce38b8353c49e9aaa845140f4a352d": {
          "model_module": "@jupyter-widgets/controls",
          "model_name": "DescriptionStyleModel",
          "model_module_version": "1.5.0",
          "state": {
            "_view_name": "StyleView",
            "_model_name": "DescriptionStyleModel",
            "description_width": "",
            "_view_module": "@jupyter-widgets/base",
            "_model_module_version": "1.5.0",
            "_view_count": null,
            "_view_module_version": "1.2.0",
            "_model_module": "@jupyter-widgets/controls"
          }
        },
        "2f5fc1fc15864495a464db86337057de": {
          "model_module": "@jupyter-widgets/base",
          "model_name": "LayoutModel",
          "model_module_version": "1.2.0",
          "state": {
            "_view_name": "LayoutView",
            "grid_template_rows": null,
            "right": null,
            "justify_content": null,
            "_view_module": "@jupyter-widgets/base",
            "overflow": null,
            "_model_module_version": "1.2.0",
            "_view_count": null,
            "flex_flow": null,
            "width": null,
            "min_width": null,
            "border": null,
            "align_items": null,
            "bottom": null,
            "_model_module": "@jupyter-widgets/base",
            "top": null,
            "grid_column": null,
            "overflow_y": null,
            "overflow_x": null,
            "grid_auto_flow": null,
            "grid_area": null,
            "grid_template_columns": null,
            "flex": null,
            "_model_name": "LayoutModel",
            "justify_items": null,
            "grid_row": null,
            "max_height": null,
            "align_content": null,
            "visibility": null,
            "align_self": null,
            "height": null,
            "min_height": null,
            "padding": null,
            "grid_auto_rows": null,
            "grid_gap": null,
            "max_width": null,
            "order": null,
            "_view_module_version": "1.2.0",
            "grid_template_areas": null,
            "object_position": null,
            "object_fit": null,
            "grid_auto_columns": null,
            "margin": null,
            "display": null,
            "left": null
          }
        },
        "612b84cd3ccb41faaf8f398da26e5429": {
          "model_module": "@jupyter-widgets/controls",
          "model_name": "ProgressStyleModel",
          "model_module_version": "1.5.0",
          "state": {
            "_view_name": "StyleView",
            "_model_name": "ProgressStyleModel",
            "description_width": "",
            "_view_module": "@jupyter-widgets/base",
            "_model_module_version": "1.5.0",
            "_view_count": null,
            "_view_module_version": "1.2.0",
            "bar_color": null,
            "_model_module": "@jupyter-widgets/controls"
          }
        },
        "bd95879671ac4d43837356ae5ff2b320": {
          "model_module": "@jupyter-widgets/base",
          "model_name": "LayoutModel",
          "model_module_version": "1.2.0",
          "state": {
            "_view_name": "LayoutView",
            "grid_template_rows": null,
            "right": null,
            "justify_content": null,
            "_view_module": "@jupyter-widgets/base",
            "overflow": null,
            "_model_module_version": "1.2.0",
            "_view_count": null,
            "flex_flow": null,
            "width": null,
            "min_width": null,
            "border": null,
            "align_items": null,
            "bottom": null,
            "_model_module": "@jupyter-widgets/base",
            "top": null,
            "grid_column": null,
            "overflow_y": null,
            "overflow_x": null,
            "grid_auto_flow": null,
            "grid_area": null,
            "grid_template_columns": null,
            "flex": null,
            "_model_name": "LayoutModel",
            "justify_items": null,
            "grid_row": null,
            "max_height": null,
            "align_content": null,
            "visibility": null,
            "align_self": null,
            "height": null,
            "min_height": null,
            "padding": null,
            "grid_auto_rows": null,
            "grid_gap": null,
            "max_width": null,
            "order": null,
            "_view_module_version": "1.2.0",
            "grid_template_areas": null,
            "object_position": null,
            "object_fit": null,
            "grid_auto_columns": null,
            "margin": null,
            "display": null,
            "left": null
          }
        },
        "f99a4290b2b445d4ba115fdee388179d": {
          "model_module": "@jupyter-widgets/controls",
          "model_name": "DescriptionStyleModel",
          "model_module_version": "1.5.0",
          "state": {
            "_view_name": "StyleView",
            "_model_name": "DescriptionStyleModel",
            "description_width": "",
            "_view_module": "@jupyter-widgets/base",
            "_model_module_version": "1.5.0",
            "_view_count": null,
            "_view_module_version": "1.2.0",
            "_model_module": "@jupyter-widgets/controls"
          }
        },
        "c4b94bb170e94697b192208eceabe661": {
          "model_module": "@jupyter-widgets/base",
          "model_name": "LayoutModel",
          "model_module_version": "1.2.0",
          "state": {
            "_view_name": "LayoutView",
            "grid_template_rows": null,
            "right": null,
            "justify_content": null,
            "_view_module": "@jupyter-widgets/base",
            "overflow": null,
            "_model_module_version": "1.2.0",
            "_view_count": null,
            "flex_flow": null,
            "width": null,
            "min_width": null,
            "border": null,
            "align_items": null,
            "bottom": null,
            "_model_module": "@jupyter-widgets/base",
            "top": null,
            "grid_column": null,
            "overflow_y": null,
            "overflow_x": null,
            "grid_auto_flow": null,
            "grid_area": null,
            "grid_template_columns": null,
            "flex": null,
            "_model_name": "LayoutModel",
            "justify_items": null,
            "grid_row": null,
            "max_height": null,
            "align_content": null,
            "visibility": null,
            "align_self": null,
            "height": null,
            "min_height": null,
            "padding": null,
            "grid_auto_rows": null,
            "grid_gap": null,
            "max_width": null,
            "order": null,
            "_view_module_version": "1.2.0",
            "grid_template_areas": null,
            "object_position": null,
            "object_fit": null,
            "grid_auto_columns": null,
            "margin": null,
            "display": null,
            "left": null
          }
        }
      }
    }
  },
  "cells": [
    {
      "cell_type": "code",
      "metadata": {
        "id": "nbQzRzqG-Ci0"
      },
      "source": [
        "import numpy as np\n",
        " \n",
        "import torch\n",
        "import torch.nn.functional as F\n",
        "import torch.nn as nn\n",
        " \n",
        "from torchvision import datasets\n",
        "from torchvision import transforms\n",
        "from torch.utils.data import DataLoader\n",
        " \n",
        "import matplotlib.pyplot as plt\n",
        " \n",
        "import operator\n",
        "from collections import Counter"
      ],
      "execution_count": null,
      "outputs": []
    },
    {
      "cell_type": "code",
      "metadata": {
        "id": "br8tBfOc-EvI"
      },
      "source": [
        "device = torch.device('cuda' if torch.cuda.is_available() else 'cpu')"
      ],
      "execution_count": null,
      "outputs": []
    },
    {
      "cell_type": "code",
      "metadata": {
        "id": "Rg0NK_Gz-Hgx"
      },
      "source": [
        "seed = 1234\n",
        "torch.manual_seed(seed)\n",
        "torch.backends.cudnn.deterministic = True\n",
        "torch.backends.cudnn.benchmark = False\n",
        "np.random.seed(seed)"
      ],
      "execution_count": null,
      "outputs": []
    },
    {
      "cell_type": "code",
      "metadata": {
        "id": "0L9jREcV-Owd"
      },
      "source": [
        "\n",
        "train_labels_count = np.zeros(47)       # Array to count labels in training dataset\n",
        "test_labels_count = np.zeros(47)        # Array to count labels in test dataset\n",
        "\n",
        "train_labels_total = 0                  # Total label count for training dataset\n",
        "test_labels_total = 0                   # Total label count for test dataset\n",
        "\n",
        "\n",
        "\n",
        "loss_epochs = []                        # List to store model's training loss for each epoch\n",
        "loss_batches = []                       # List to store model's training loss for each batch\n",
        "\n",
        "\n",
        "\n",
        "train_correct_preds = np.zeros(4)       # Array to store count of correct predictions made by models on the training dataset\n",
        "test_correct_preds = np.zeros(4)        # Array to store count of correct predictions made by models on the test dataset\n",
        "\n",
        "\n",
        "\n",
        "\n",
        "unsure_labels_count = np.zeros(47)      # Array to count unsure labels predicted by the model on the training dataset\n",
        "top_unsure_labels = []\n",
        "\n",
        "unsure_matrix = []                      # Matrix to store unsure label values for each label\n",
        "for i in range(47):\n",
        "    unsure_matrix.append([])\n",
        "\n",
        "\n",
        "\n",
        "\n",
        "train_wrong_preds = np.zeros(47)        # Array to count wrong predictions made by the model, for each label in the training dataset\n",
        "test_wrong_preds = np.zeros(47)         # Array to count wrong predictions made by the model, for each label in the test dataset\n",
        "\n",
        "\n",
        "\n",
        "####    Task 4, Q1      ####\n",
        "loss_epoch_matrix = []                  # Matrix to store training loss per epoch for each model\n",
        "models_params = np.zeros(4)             # Array to store total parameters for each model\n",
        "model_txt = [\"Model #0\", \"Model #1\", \"Model #2\", \"Model #3\"]                    # List of model names for plots"
      ],
      "execution_count": null,
      "outputs": []
    },
    {
      "cell_type": "code",
      "metadata": {
        "id": "OFETaCa0-VFy",
        "colab": {
          "base_uri": "https://localhost:8080/",
          "height": 430,
          "referenced_widgets": [
            "2d65f0f235cc40e880022048023f3c81",
            "cced76a8efd14f80bf10fef5a65f8c24",
            "b2f26765cc0747058a3b791dea024676",
            "899f79414b774181865b8fe2a9c24666",
            "1c255eb6e7d44f0b801e6d7636a3dc06",
            "bdce38b8353c49e9aaa845140f4a352d",
            "2f5fc1fc15864495a464db86337057de",
            "612b84cd3ccb41faaf8f398da26e5429",
            "bd95879671ac4d43837356ae5ff2b320",
            "f99a4290b2b445d4ba115fdee388179d",
            "c4b94bb170e94697b192208eceabe661"
          ]
        },
        "outputId": "9592eed2-11bc-482e-c1e3-805dd904444d"
      },
      "source": [
        "transformCustom = transforms.Compose([transforms.ToTensor(),                        # convert image to a tensor\n",
        "                                      transforms.Lambda(lambda x:x.view(-1))])      # flatten 28*28 images into (784,) vector\n",
        "\n",
        "\n",
        "train = datasets.EMNIST(root='.', split='bymerge', train=True, transform=transformCustom, download=True)\n",
        "test = datasets.EMNIST(root='.', split='bymerge', train=False, transform=transformCustom, download=True)"
      ],
      "execution_count": null,
      "outputs": [
        {
          "output_type": "stream",
          "name": "stdout",
          "text": [
            "Downloading https://www.itl.nist.gov/iaui/vip/cs_links/EMNIST/gzip.zip to ./EMNIST/raw/gzip.zip\n"
          ]
        },
        {
          "output_type": "display_data",
          "data": {
            "application/vnd.jupyter.widget-view+json": {
              "model_id": "2d65f0f235cc40e880022048023f3c81",
              "version_minor": 0,
              "version_major": 2
            },
            "text/plain": [
              "  0%|          | 0/561753746 [00:00<?, ?it/s]"
            ]
          },
          "metadata": {}
        },
        {
          "output_type": "stream",
          "name": "stdout",
          "text": [
            "Extracting ./EMNIST/raw/gzip.zip to ./EMNIST/raw\n"
          ]
        },
        {
          "output_type": "error",
          "ename": "KeyboardInterrupt",
          "evalue": "ignored",
          "traceback": [
            "\u001b[0;31m---------------------------------------------------------------------------\u001b[0m",
            "\u001b[0;31mKeyboardInterrupt\u001b[0m                         Traceback (most recent call last)",
            "\u001b[0;32m<ipython-input-5-1fa85d672a0d>\u001b[0m in \u001b[0;36m<module>\u001b[0;34m()\u001b[0m\n\u001b[1;32m      3\u001b[0m \u001b[0;34m\u001b[0m\u001b[0m\n\u001b[1;32m      4\u001b[0m \u001b[0;34m\u001b[0m\u001b[0m\n\u001b[0;32m----> 5\u001b[0;31m \u001b[0mtrain\u001b[0m \u001b[0;34m=\u001b[0m \u001b[0mdatasets\u001b[0m\u001b[0;34m.\u001b[0m\u001b[0mEMNIST\u001b[0m\u001b[0;34m(\u001b[0m\u001b[0mroot\u001b[0m\u001b[0;34m=\u001b[0m\u001b[0;34m'.'\u001b[0m\u001b[0;34m,\u001b[0m \u001b[0msplit\u001b[0m\u001b[0;34m=\u001b[0m\u001b[0;34m'bymerge'\u001b[0m\u001b[0;34m,\u001b[0m \u001b[0mtrain\u001b[0m\u001b[0;34m=\u001b[0m\u001b[0;32mTrue\u001b[0m\u001b[0;34m,\u001b[0m \u001b[0mtransform\u001b[0m\u001b[0;34m=\u001b[0m\u001b[0mtransformCustom\u001b[0m\u001b[0;34m,\u001b[0m \u001b[0mdownload\u001b[0m\u001b[0;34m=\u001b[0m\u001b[0;32mTrue\u001b[0m\u001b[0;34m)\u001b[0m\u001b[0;34m\u001b[0m\u001b[0;34m\u001b[0m\u001b[0m\n\u001b[0m\u001b[1;32m      6\u001b[0m \u001b[0mtest\u001b[0m \u001b[0;34m=\u001b[0m \u001b[0mdatasets\u001b[0m\u001b[0;34m.\u001b[0m\u001b[0mEMNIST\u001b[0m\u001b[0;34m(\u001b[0m\u001b[0mroot\u001b[0m\u001b[0;34m=\u001b[0m\u001b[0;34m'.'\u001b[0m\u001b[0;34m,\u001b[0m \u001b[0msplit\u001b[0m\u001b[0;34m=\u001b[0m\u001b[0;34m'bymerge'\u001b[0m\u001b[0;34m,\u001b[0m \u001b[0mtrain\u001b[0m\u001b[0;34m=\u001b[0m\u001b[0;32mFalse\u001b[0m\u001b[0;34m,\u001b[0m \u001b[0mtransform\u001b[0m\u001b[0;34m=\u001b[0m\u001b[0mtransformCustom\u001b[0m\u001b[0;34m,\u001b[0m \u001b[0mdownload\u001b[0m\u001b[0;34m=\u001b[0m\u001b[0;32mTrue\u001b[0m\u001b[0;34m)\u001b[0m\u001b[0;34m\u001b[0m\u001b[0;34m\u001b[0m\u001b[0m\n",
            "\u001b[0;32m/usr/local/lib/python3.7/dist-packages/torchvision/datasets/mnist.py\u001b[0m in \u001b[0;36m__init__\u001b[0;34m(self, root, split, **kwargs)\u001b[0m\n\u001b[1;32m    291\u001b[0m         \u001b[0mself\u001b[0m\u001b[0;34m.\u001b[0m\u001b[0mtraining_file\u001b[0m \u001b[0;34m=\u001b[0m \u001b[0mself\u001b[0m\u001b[0;34m.\u001b[0m\u001b[0m_training_file\u001b[0m\u001b[0;34m(\u001b[0m\u001b[0msplit\u001b[0m\u001b[0;34m)\u001b[0m\u001b[0;34m\u001b[0m\u001b[0;34m\u001b[0m\u001b[0m\n\u001b[1;32m    292\u001b[0m         \u001b[0mself\u001b[0m\u001b[0;34m.\u001b[0m\u001b[0mtest_file\u001b[0m \u001b[0;34m=\u001b[0m \u001b[0mself\u001b[0m\u001b[0;34m.\u001b[0m\u001b[0m_test_file\u001b[0m\u001b[0;34m(\u001b[0m\u001b[0msplit\u001b[0m\u001b[0;34m)\u001b[0m\u001b[0;34m\u001b[0m\u001b[0;34m\u001b[0m\u001b[0m\n\u001b[0;32m--> 293\u001b[0;31m         \u001b[0msuper\u001b[0m\u001b[0;34m(\u001b[0m\u001b[0mEMNIST\u001b[0m\u001b[0;34m,\u001b[0m \u001b[0mself\u001b[0m\u001b[0;34m)\u001b[0m\u001b[0;34m.\u001b[0m\u001b[0m__init__\u001b[0m\u001b[0;34m(\u001b[0m\u001b[0mroot\u001b[0m\u001b[0;34m,\u001b[0m \u001b[0;34m**\u001b[0m\u001b[0mkwargs\u001b[0m\u001b[0;34m)\u001b[0m\u001b[0;34m\u001b[0m\u001b[0;34m\u001b[0m\u001b[0m\n\u001b[0m\u001b[1;32m    294\u001b[0m         \u001b[0mself\u001b[0m\u001b[0;34m.\u001b[0m\u001b[0mclasses\u001b[0m \u001b[0;34m=\u001b[0m \u001b[0mself\u001b[0m\u001b[0;34m.\u001b[0m\u001b[0mclasses_split_dict\u001b[0m\u001b[0;34m[\u001b[0m\u001b[0mself\u001b[0m\u001b[0;34m.\u001b[0m\u001b[0msplit\u001b[0m\u001b[0;34m]\u001b[0m\u001b[0;34m\u001b[0m\u001b[0;34m\u001b[0m\u001b[0m\n\u001b[1;32m    295\u001b[0m \u001b[0;34m\u001b[0m\u001b[0m\n",
            "\u001b[0;32m/usr/local/lib/python3.7/dist-packages/torchvision/datasets/mnist.py\u001b[0m in \u001b[0;36m__init__\u001b[0;34m(self, root, train, transform, target_transform, download)\u001b[0m\n\u001b[1;32m     85\u001b[0m \u001b[0;34m\u001b[0m\u001b[0m\n\u001b[1;32m     86\u001b[0m         \u001b[0;32mif\u001b[0m \u001b[0mdownload\u001b[0m\u001b[0;34m:\u001b[0m\u001b[0;34m\u001b[0m\u001b[0;34m\u001b[0m\u001b[0m\n\u001b[0;32m---> 87\u001b[0;31m             \u001b[0mself\u001b[0m\u001b[0;34m.\u001b[0m\u001b[0mdownload\u001b[0m\u001b[0;34m(\u001b[0m\u001b[0;34m)\u001b[0m\u001b[0;34m\u001b[0m\u001b[0;34m\u001b[0m\u001b[0m\n\u001b[0m\u001b[1;32m     88\u001b[0m \u001b[0;34m\u001b[0m\u001b[0m\n\u001b[1;32m     89\u001b[0m         \u001b[0;32mif\u001b[0m \u001b[0;32mnot\u001b[0m \u001b[0mself\u001b[0m\u001b[0;34m.\u001b[0m\u001b[0m_check_exists\u001b[0m\u001b[0;34m(\u001b[0m\u001b[0;34m)\u001b[0m\u001b[0;34m:\u001b[0m\u001b[0;34m\u001b[0m\u001b[0;34m\u001b[0m\u001b[0m\n",
            "\u001b[0;32m/usr/local/lib/python3.7/dist-packages/torchvision/datasets/mnist.py\u001b[0m in \u001b[0;36mdownload\u001b[0;34m(self)\u001b[0m\n\u001b[1;32m    332\u001b[0m         \u001b[0;32mfor\u001b[0m \u001b[0mgzip_file\u001b[0m \u001b[0;32min\u001b[0m \u001b[0mos\u001b[0m\u001b[0;34m.\u001b[0m\u001b[0mlistdir\u001b[0m\u001b[0;34m(\u001b[0m\u001b[0mgzip_folder\u001b[0m\u001b[0;34m)\u001b[0m\u001b[0;34m:\u001b[0m\u001b[0;34m\u001b[0m\u001b[0;34m\u001b[0m\u001b[0m\n\u001b[1;32m    333\u001b[0m             \u001b[0;32mif\u001b[0m \u001b[0mgzip_file\u001b[0m\u001b[0;34m.\u001b[0m\u001b[0mendswith\u001b[0m\u001b[0;34m(\u001b[0m\u001b[0;34m'.gz'\u001b[0m\u001b[0;34m)\u001b[0m\u001b[0;34m:\u001b[0m\u001b[0;34m\u001b[0m\u001b[0;34m\u001b[0m\u001b[0m\n\u001b[0;32m--> 334\u001b[0;31m                 \u001b[0mextract_archive\u001b[0m\u001b[0;34m(\u001b[0m\u001b[0mos\u001b[0m\u001b[0;34m.\u001b[0m\u001b[0mpath\u001b[0m\u001b[0;34m.\u001b[0m\u001b[0mjoin\u001b[0m\u001b[0;34m(\u001b[0m\u001b[0mgzip_folder\u001b[0m\u001b[0;34m,\u001b[0m \u001b[0mgzip_file\u001b[0m\u001b[0;34m)\u001b[0m\u001b[0;34m,\u001b[0m \u001b[0mself\u001b[0m\u001b[0;34m.\u001b[0m\u001b[0mraw_folder\u001b[0m\u001b[0;34m)\u001b[0m\u001b[0;34m\u001b[0m\u001b[0;34m\u001b[0m\u001b[0m\n\u001b[0m\u001b[1;32m    335\u001b[0m         \u001b[0mshutil\u001b[0m\u001b[0;34m.\u001b[0m\u001b[0mrmtree\u001b[0m\u001b[0;34m(\u001b[0m\u001b[0mgzip_folder\u001b[0m\u001b[0;34m)\u001b[0m\u001b[0;34m\u001b[0m\u001b[0;34m\u001b[0m\u001b[0m\n\u001b[1;32m    336\u001b[0m \u001b[0;34m\u001b[0m\u001b[0m\n",
            "\u001b[0;32m/usr/local/lib/python3.7/dist-packages/torchvision/datasets/utils.py\u001b[0m in \u001b[0;36mextract_archive\u001b[0;34m(from_path, to_path, remove_finished)\u001b[0m\n\u001b[1;32m    400\u001b[0m             \u001b[0mfrom_path\u001b[0m\u001b[0;34m,\u001b[0m\u001b[0;34m\u001b[0m\u001b[0;34m\u001b[0m\u001b[0m\n\u001b[1;32m    401\u001b[0m             \u001b[0mos\u001b[0m\u001b[0;34m.\u001b[0m\u001b[0mpath\u001b[0m\u001b[0;34m.\u001b[0m\u001b[0mjoin\u001b[0m\u001b[0;34m(\u001b[0m\u001b[0mto_path\u001b[0m\u001b[0;34m,\u001b[0m \u001b[0mos\u001b[0m\u001b[0;34m.\u001b[0m\u001b[0mpath\u001b[0m\u001b[0;34m.\u001b[0m\u001b[0mbasename\u001b[0m\u001b[0;34m(\u001b[0m\u001b[0mfrom_path\u001b[0m\u001b[0;34m)\u001b[0m\u001b[0;34m.\u001b[0m\u001b[0mreplace\u001b[0m\u001b[0;34m(\u001b[0m\u001b[0msuffix\u001b[0m\u001b[0;34m,\u001b[0m \u001b[0;34m\"\"\u001b[0m\u001b[0;34m)\u001b[0m\u001b[0;34m)\u001b[0m\u001b[0;34m,\u001b[0m\u001b[0;34m\u001b[0m\u001b[0;34m\u001b[0m\u001b[0m\n\u001b[0;32m--> 402\u001b[0;31m             \u001b[0mremove_finished\u001b[0m\u001b[0;34m=\u001b[0m\u001b[0mremove_finished\u001b[0m\u001b[0;34m,\u001b[0m\u001b[0;34m\u001b[0m\u001b[0;34m\u001b[0m\u001b[0m\n\u001b[0m\u001b[1;32m    403\u001b[0m         )\n\u001b[1;32m    404\u001b[0m \u001b[0;34m\u001b[0m\u001b[0m\n",
            "\u001b[0;32m/usr/local/lib/python3.7/dist-packages/torchvision/datasets/utils.py\u001b[0m in \u001b[0;36m_decompress\u001b[0;34m(from_path, to_path, remove_finished)\u001b[0m\n\u001b[1;32m    369\u001b[0m \u001b[0;34m\u001b[0m\u001b[0m\n\u001b[1;32m    370\u001b[0m     \u001b[0;32mwith\u001b[0m \u001b[0mcompressed_file_opener\u001b[0m\u001b[0;34m(\u001b[0m\u001b[0mfrom_path\u001b[0m\u001b[0;34m,\u001b[0m \u001b[0;34m\"rb\"\u001b[0m\u001b[0;34m)\u001b[0m \u001b[0;32mas\u001b[0m \u001b[0mrfh\u001b[0m\u001b[0;34m,\u001b[0m \u001b[0mopen\u001b[0m\u001b[0;34m(\u001b[0m\u001b[0mto_path\u001b[0m\u001b[0;34m,\u001b[0m \u001b[0;34m\"wb\"\u001b[0m\u001b[0;34m)\u001b[0m \u001b[0;32mas\u001b[0m \u001b[0mwfh\u001b[0m\u001b[0;34m:\u001b[0m\u001b[0;34m\u001b[0m\u001b[0;34m\u001b[0m\u001b[0m\n\u001b[0;32m--> 371\u001b[0;31m         \u001b[0mwfh\u001b[0m\u001b[0;34m.\u001b[0m\u001b[0mwrite\u001b[0m\u001b[0;34m(\u001b[0m\u001b[0mrfh\u001b[0m\u001b[0;34m.\u001b[0m\u001b[0mread\u001b[0m\u001b[0;34m(\u001b[0m\u001b[0;34m)\u001b[0m\u001b[0;34m)\u001b[0m\u001b[0;34m\u001b[0m\u001b[0;34m\u001b[0m\u001b[0m\n\u001b[0m\u001b[1;32m    372\u001b[0m \u001b[0;34m\u001b[0m\u001b[0m\n\u001b[1;32m    373\u001b[0m     \u001b[0;32mif\u001b[0m \u001b[0mremove_finished\u001b[0m\u001b[0;34m:\u001b[0m\u001b[0;34m\u001b[0m\u001b[0;34m\u001b[0m\u001b[0m\n",
            "\u001b[0;32m/usr/lib/python3.7/gzip.py\u001b[0m in \u001b[0;36mread\u001b[0;34m(self, size)\u001b[0m\n\u001b[1;32m    285\u001b[0m             \u001b[0;32mimport\u001b[0m \u001b[0merrno\u001b[0m\u001b[0;34m\u001b[0m\u001b[0;34m\u001b[0m\u001b[0m\n\u001b[1;32m    286\u001b[0m             \u001b[0;32mraise\u001b[0m \u001b[0mOSError\u001b[0m\u001b[0;34m(\u001b[0m\u001b[0merrno\u001b[0m\u001b[0;34m.\u001b[0m\u001b[0mEBADF\u001b[0m\u001b[0;34m,\u001b[0m \u001b[0;34m\"read() on write-only GzipFile object\"\u001b[0m\u001b[0;34m)\u001b[0m\u001b[0;34m\u001b[0m\u001b[0;34m\u001b[0m\u001b[0m\n\u001b[0;32m--> 287\u001b[0;31m         \u001b[0;32mreturn\u001b[0m \u001b[0mself\u001b[0m\u001b[0;34m.\u001b[0m\u001b[0m_buffer\u001b[0m\u001b[0;34m.\u001b[0m\u001b[0mread\u001b[0m\u001b[0;34m(\u001b[0m\u001b[0msize\u001b[0m\u001b[0;34m)\u001b[0m\u001b[0;34m\u001b[0m\u001b[0;34m\u001b[0m\u001b[0m\n\u001b[0m\u001b[1;32m    288\u001b[0m \u001b[0;34m\u001b[0m\u001b[0m\n\u001b[1;32m    289\u001b[0m     \u001b[0;32mdef\u001b[0m \u001b[0mread1\u001b[0m\u001b[0;34m(\u001b[0m\u001b[0mself\u001b[0m\u001b[0;34m,\u001b[0m \u001b[0msize\u001b[0m\u001b[0;34m=\u001b[0m\u001b[0;34m-\u001b[0m\u001b[0;36m1\u001b[0m\u001b[0;34m)\u001b[0m\u001b[0;34m:\u001b[0m\u001b[0;34m\u001b[0m\u001b[0;34m\u001b[0m\u001b[0m\n",
            "\u001b[0;32m/usr/lib/python3.7/gzip.py\u001b[0m in \u001b[0;36mread\u001b[0;34m(self, size)\u001b[0m\n\u001b[1;32m    480\u001b[0m             \u001b[0mbuf\u001b[0m \u001b[0;34m=\u001b[0m \u001b[0mself\u001b[0m\u001b[0;34m.\u001b[0m\u001b[0m_fp\u001b[0m\u001b[0;34m.\u001b[0m\u001b[0mread\u001b[0m\u001b[0;34m(\u001b[0m\u001b[0mio\u001b[0m\u001b[0;34m.\u001b[0m\u001b[0mDEFAULT_BUFFER_SIZE\u001b[0m\u001b[0;34m)\u001b[0m\u001b[0;34m\u001b[0m\u001b[0;34m\u001b[0m\u001b[0m\n\u001b[1;32m    481\u001b[0m \u001b[0;34m\u001b[0m\u001b[0m\n\u001b[0;32m--> 482\u001b[0;31m             \u001b[0muncompress\u001b[0m \u001b[0;34m=\u001b[0m \u001b[0mself\u001b[0m\u001b[0;34m.\u001b[0m\u001b[0m_decompressor\u001b[0m\u001b[0;34m.\u001b[0m\u001b[0mdecompress\u001b[0m\u001b[0;34m(\u001b[0m\u001b[0mbuf\u001b[0m\u001b[0;34m,\u001b[0m \u001b[0msize\u001b[0m\u001b[0;34m)\u001b[0m\u001b[0;34m\u001b[0m\u001b[0;34m\u001b[0m\u001b[0m\n\u001b[0m\u001b[1;32m    483\u001b[0m             \u001b[0;32mif\u001b[0m \u001b[0mself\u001b[0m\u001b[0;34m.\u001b[0m\u001b[0m_decompressor\u001b[0m\u001b[0;34m.\u001b[0m\u001b[0munconsumed_tail\u001b[0m \u001b[0;34m!=\u001b[0m \u001b[0;34mb\"\"\u001b[0m\u001b[0;34m:\u001b[0m\u001b[0;34m\u001b[0m\u001b[0;34m\u001b[0m\u001b[0m\n\u001b[1;32m    484\u001b[0m                 \u001b[0mself\u001b[0m\u001b[0;34m.\u001b[0m\u001b[0m_fp\u001b[0m\u001b[0;34m.\u001b[0m\u001b[0mprepend\u001b[0m\u001b[0;34m(\u001b[0m\u001b[0mself\u001b[0m\u001b[0;34m.\u001b[0m\u001b[0m_decompressor\u001b[0m\u001b[0;34m.\u001b[0m\u001b[0munconsumed_tail\u001b[0m\u001b[0;34m)\u001b[0m\u001b[0;34m\u001b[0m\u001b[0;34m\u001b[0m\u001b[0m\n",
            "\u001b[0;31mKeyboardInterrupt\u001b[0m: "
          ]
        }
      ]
    },
    {
      "cell_type": "code",
      "metadata": {
        "id": "sPwm8hDX-Yjk"
      },
      "source": [
        "train_loader = DataLoader(train, batch_size=128, shuffle=True)\n",
        "test_loader = DataLoader(test, batch_size=128)"
      ],
      "execution_count": null,
      "outputs": []
    },
    {
      "cell_type": "code",
      "metadata": {
        "id": "hro4tafZ-l2w"
      },
      "source": [
        "# count the instances for each label\n",
        "for label in train.train_labels:\n",
        "    train_labels_count[label.item()] += 1\n",
        "\n",
        "# get the total count of labels for training set\n",
        "train_labels_total = train_labels_count.sum()"
      ],
      "execution_count": null,
      "outputs": []
    },
    {
      "cell_type": "code",
      "metadata": {
        "id": "Qzgh7DUB-pLT"
      },
      "source": [
        "# count the instances for each label\n",
        "for label in test.test_labels:\n",
        "    test_labels_count[label.item()] += 1\n",
        "\n",
        "# get the total count of labels for test set\n",
        "test_labels_total = test_labels_count.sum()"
      ],
      "execution_count": null,
      "outputs": []
    },
    {
      "cell_type": "code",
      "metadata": {
        "id": "PMAymCqxEL-O"
      },
      "source": [
        ""
      ],
      "execution_count": null,
      "outputs": []
    },
    {
      "cell_type": "code",
      "metadata": {
        "id": "ZYRlqRj7i-t9",
        "collapsed": true
      },
      "source": [
        "print(\"-\"*20, \" For Training Dataset \", \"-\"*20)\n",
        "\n",
        "print(\"\\n\\n--Number of instances for each class--\\n\")\n",
        "for id, n in enumerate(train_labels_count):\n",
        "    print(f'Label {id}:\\t{int(n)}\\t\\t{n *100 / train_labels_total :.2f} %')"
      ],
      "execution_count": null,
      "outputs": []
    },
    {
      "cell_type": "code",
      "metadata": {
        "id": "HMLztrmcfrQz",
        "collapsed": true
      },
      "source": [
        "print(\"-\"*20, \" For Test Dataset \", \"-\"*20)\n",
        "\n",
        "print(\"\\n\\n--Number of instances for each class--\\n\")\n",
        "for id, n in enumerate(test_labels_count):\n",
        "    print(f'Label {id}:\\t{int(n)}\\t\\t{n *100 / test_labels_total :.2f} %')"
      ],
      "execution_count": null,
      "outputs": []
    },
    {
      "cell_type": "markdown",
      "metadata": {
        "id": "0C0sOdp4-hRC"
      },
      "source": [
        "**Reflection:**\n",
        "\n",
        "The data set is not balanced as there are 47 classes \n",
        "\n",
        "100/47 = 2.127 \n",
        "\n",
        "that means each class should have a 2.12% - 2.13 % representation , which is not the case here \n",
        "\n",
        "the under represent classes are :\n",
        "10-17, 19, 20, 22, 23, 25-27, 29, 31-38, 40-45\n",
        "\n",
        "and the over represent classses are :\n",
        "0-9, 21, 24, 28, 30, 39, 46\n"
      ]
    },
    {
      "cell_type": "markdown",
      "metadata": {
        "id": "T8DGY-mfAt5H"
      },
      "source": [
        "# `Q2`"
      ]
    },
    {
      "cell_type": "markdown",
      "metadata": {
        "id": "4BpUmpj3BIVU"
      },
      "source": [
        "Orignal model has 1703983 trainable parameters\n",
        "\n",
        "Model : Sequential\n",
        "\n",
        "Layer  |    Output Shape  |    Parameters\n",
        "\n",
        "\n",
        "\n",
        "\n",
        "---\n",
        "\n",
        "\n",
        "Linear    |  (None ,2048)  |    1607680\n",
        "\n",
        "---\n",
        "\n",
        "\n",
        "Activation(ReLu)|   (None, 2048)  |  0\n",
        "\n",
        "---\n",
        "\n",
        "\n",
        "Dropout    |  (None, 2048)      |  0\n",
        "\n",
        "---\n",
        "\n",
        "\n",
        "Linear       |(None, 47)      |   96303\n",
        "\n",
        "---\n",
        "\n",
        "\n",
        "Activation(Softmax) | (None, 47)  | 0\n",
        "\n",
        "\n",
        "\n",
        "Total params: 1,703,983\n",
        "\n",
        "Trainable params: 1,703,983\n",
        "\n",
        "Non-trainable params: 0\n",
        "\n",
        "\n"
      ]
    },
    {
      "cell_type": "code",
      "metadata": {
        "id": "Jl6t75fK-srl"
      },
      "source": [
        "class MLP (nn.Module):\n",
        "    def __init__(self):\n",
        "        super(MLP, self).__init__()\n",
        "\n",
        "        self.input = nn.Linear(784, 2048)        #1024  #576    #368\n",
        "        self.output = nn.Linear(2048, 47)        #1024  #192    #368\n",
        "        self.drop = nn.Dropout(0.2)\n",
        "\n",
        "\n",
        "    def forward(self, x):\n",
        "        x = self.drop(F.relu(self.input(x)))\n",
        "        x = self.output(x)\n",
        "\n",
        "        if not self.training:\n",
        "            x = F.softmax(x, dim=1)\n",
        "\n",
        "        return x"
      ],
      "execution_count": null,
      "outputs": []
    },
    {
      "cell_type": "code",
      "metadata": {
        "id": "zeaYjJwP-wNI"
      },
      "source": [
        "class MLP1 (nn.Module):\n",
        "    def __init__(self):\n",
        "        super(MLP1, self).__init__()\n",
        "\n",
        "        self.input = nn.Linear(784, 2048)\n",
        "        self.output = nn.Linear(2048, 47)\n",
        "\n",
        "\n",
        "    def forward(self, x):\n",
        "        x = F.relu(self.input(x))\n",
        "        x = self.output(x)\n",
        "\n",
        "        if not self.training:\n",
        "            x = F.softmax(x, dim=1)\n",
        "        \n",
        "        return x"
      ],
      "execution_count": null,
      "outputs": []
    },
    {
      "cell_type": "code",
      "metadata": {
        "id": "8TnX03Ze-4Ag"
      },
      "source": [
        "class MLP2 (nn.Module):\n",
        "    def __init__(self):\n",
        "        super(MLP2, self).__init__()\n",
        "\n",
        "        self.input = nn.Linear(784, 1024)\n",
        "        self.output = nn.Linear(1024, 47)\n",
        "        self.drop = nn.Dropout(0.2)\n",
        "\n",
        "    def forward(self, x):\n",
        "        x = self.drop(F.relu(self.input(x)))\n",
        "        x = self.output(x)\n",
        "\n",
        "        if not self.training:\n",
        "            x = F.softmax(x, dim=1)\n",
        "\n",
        "        return x"
      ],
      "execution_count": null,
      "outputs": []
    },
    {
      "cell_type": "code",
      "metadata": {
        "id": "B-CGHlZw-63x"
      },
      "source": [
        "class MLP3 (nn.Module):\n",
        "    def __init__(self):\n",
        "        super(MLP3, self).__init__()\n",
        "\n",
        "        self.input = nn.Linear(784, 2048)\n",
        "        self.layer1 = nn.Linear(2048, 1000)\n",
        "        self.output = nn.Linear(1000, 47)\n",
        "        self.drop = nn.Dropout(0.2)\n",
        "\n",
        "    def forward(self, x):\n",
        "        x = self.drop(F.relu(self.input(x)))\n",
        "        x = self.drop(F.relu(self.layer1(x)))\n",
        "        x = self.output(x)\n",
        "\n",
        "        if not self.training:\n",
        "            x = F.softmax(x, dim=1)\n",
        "\n",
        "        return x"
      ],
      "execution_count": null,
      "outputs": []
    },
    {
      "cell_type": "code",
      "metadata": {
        "id": "1FJuT-HM-9sv"
      },
      "source": [
        "# Instantiate the MLP\n",
        "model = MLP()\n",
        "model_1 = MLP1()\n",
        "model_2 = MLP2()\n",
        "model_3 = MLP3()\n",
        "\n",
        "# Use GPU, if available\n",
        "model.to(device)\n",
        "model_1.to(device)\n",
        "model_2.to(device)\n",
        "model_3.to(device)"
      ],
      "execution_count": null,
      "outputs": []
    },
    {
      "cell_type": "code",
      "metadata": {
        "id": "YDn3MbBw_Bd7"
      },
      "source": [
        "for p in model.parameters():\n",
        "    param = p.shape\n",
        "    if len(param)==2:\n",
        "        models_params[0] += param[0] * param[1]\n",
        "    else:\n",
        "        models_params[0] += param[0]\n",
        "\n",
        "for p in model_1.parameters():\n",
        "    param = p.shape\n",
        "    if len(param)==2:\n",
        "        models_params[1] += param[0] * param[1]\n",
        "    else:\n",
        "        models_params[1] += param[0]\n",
        "\n",
        "for p in model_2.parameters():\n",
        "    param = p.shape\n",
        "    if len(param)==2:\n",
        "        models_params[2] += param[0] * param[1]\n",
        "    else:\n",
        "        models_params[2] += param[0]\n",
        "\n",
        "for p in model_3.parameters():\n",
        "    param = p.shape\n",
        "    if len(param)==2:\n",
        "        models_params[3] += param[0] * param[1]\n",
        "    else:\n",
        "        models_params[3] += param[0]"
      ],
      "execution_count": null,
      "outputs": []
    },
    {
      "cell_type": "code",
      "metadata": {
        "id": "STHgBoj8_MT2"
      },
      "source": [
        "loss_fn = nn.CrossEntropyLoss()\n",
        "opt = torch.optim.Adam(model.parameters())\n",
        "opt_1 = torch.optim.Adam(model_1.parameters())\n",
        "opt_2 = torch.optim.Adam(model_2.parameters())\n",
        "opt_3 = torch.optim.Adam(model_3.parameters())"
      ],
      "execution_count": null,
      "outputs": []
    },
    {
      "cell_type": "code",
      "metadata": {
        "id": "aPNz63cty9j0"
      },
      "source": [
        "# set model state to training\n",
        "model.train()\n",
        "\n",
        "for epoch in range(10):\n",
        "    # variable to store loss for current epoch\n",
        "    loss = 0\n",
        "\n",
        "    for inputs, labels in train_loader:\n",
        "        inputs, labels = inputs.to(device), labels.to(device)   # Use GPU, if available\n",
        "        opt.zero_grad() #zero the gradients\n",
        "        predict_batch = model(inputs) #fwd\n",
        "        loss_batch = loss_fn(predict_batch,labels) #loss\n",
        "        loss_batch.backward() #backward\n",
        "\n",
        "        opt.step()#optimize i.e update weights\n",
        "\n",
        "        # Add current batch's model loss to the list\n",
        "        loss_batches.append(loss_batch.item())\n",
        "\n",
        "        # Add current batch's model loss, to calculate loss for current epoch    \n",
        "        loss += loss_batch.item()\n",
        "    \n",
        "    # Add current epoch's model loss to the list\n",
        "    loss_epochs.append(loss)\n",
        "\n",
        "# Add this model's training loss per epoch to the matrix\n",
        "loss_epoch_matrix.append(loss_epochs)"
      ],
      "execution_count": null,
      "outputs": []
    },
    {
      "cell_type": "code",
      "metadata": {
        "id": "sYvR4jQr04tt"
      },
      "source": [
        "# Empty the list\n",
        "loss_epochs = []\n",
        "\n",
        "# set model state to training\n",
        "model_1.train()\n",
        "\n",
        "for epoch in range(10):\n",
        "    # variable to store loss for current epoch\n",
        "    loss = 0\n",
        "\n",
        "    for inputs, labels in train_loader:\n",
        "        inputs, labels = inputs.to(device), labels.to(device)   # Use GPU, if available\n",
        "        opt_1.zero_grad() #zero the gradients\n",
        "        predict_batch = model_1(inputs) #fwd\n",
        "        loss_batch = loss_fn(predict_batch,labels) #loss\n",
        "        loss_batch.backward() #backward\n",
        "\n",
        "        opt_1.step()#optimize i.e update weights\n",
        "\n",
        "        # Add current batch's model loss, to calculate loss for current epoch    \n",
        "        loss += loss_batch.item()\n",
        "    \n",
        "    # Add current epoch's model loss to the list\n",
        "    loss_epochs.append(loss)\n",
        "\n",
        "# Add this model's training loss per epoch to the matrix\n",
        "loss_epoch_matrix.append(loss_epochs)"
      ],
      "execution_count": null,
      "outputs": []
    },
    {
      "cell_type": "code",
      "metadata": {
        "id": "EDY0jprr11FE"
      },
      "source": [
        "# Empty the list\n",
        "loss_epochs = []\n",
        "\n",
        "# set model state to training\n",
        "model_2.train()\n",
        "\n",
        "for epoch in range(10):\n",
        "    # variable to store loss for current epoch\n",
        "    loss = 0\n",
        "\n",
        "    for inputs, labels in train_loader:\n",
        "        inputs, labels = inputs.to(device), labels.to(device)   # Use GPU, if available\n",
        "        opt_2.zero_grad() #zero the gradients\n",
        "        predict_batch = model_2(inputs) #fwd\n",
        "        loss_batch = loss_fn(predict_batch,labels) #loss\n",
        "        loss_batch.backward() #backward\n",
        "\n",
        "        opt_2.step()#optimize i.e update weights\n",
        "\n",
        "        # Add current batch's model loss, to calculate loss for current epoch    \n",
        "        loss += loss_batch.item()\n",
        "    \n",
        "    # Add current epoch's model loss to the list\n",
        "    loss_epochs.append(loss)\n",
        "\n",
        "loss_epoch_matrix.append(loss_epochs)"
      ],
      "execution_count": null,
      "outputs": []
    },
    {
      "cell_type": "code",
      "metadata": {
        "id": "oMvLzyCT15a0"
      },
      "source": [
        "# Empty the list\n",
        "loss_epochs = []\n",
        "\n",
        "# set model state to training\n",
        "model_3.train()\n",
        "\n",
        "for epoch in range(10):\n",
        "    # variable to store loss for current epoch\n",
        "    loss = 0\n",
        "\n",
        "    for inputs, labels in train_loader:\n",
        "        inputs, labels = inputs.to(device), labels.to(device)   # Use GPU, if available\n",
        "        opt_3.zero_grad() #zero the gradients\n",
        "        predict_batch = model_3(inputs) #fwd\n",
        "        loss_batch = loss_fn(predict_batch,labels) #loss\n",
        "        loss_batch.backward() #backward\n",
        "\n",
        "        opt_3.step()#optimize i.e update weights\n",
        "\n",
        "        # Add current batch's model loss, to calculate loss for current epoch    \n",
        "        loss += loss_batch.item()\n",
        "    \n",
        "    # Add current epoch's model loss to the list\n",
        "    loss_epochs.append(loss)\n",
        "\n",
        "# Add this model's training loss per epoch to the matrix\n",
        "loss_epoch_matrix.append(loss_epochs)"
      ],
      "execution_count": null,
      "outputs": []
    },
    {
      "cell_type": "code",
      "metadata": {
        "id": "p-5EULZjkdu8"
      },
      "source": [
        "# Change model state to eval\n",
        "model.eval()\n",
        "model_1.eval()\n",
        "model_2.eval()\n",
        "model_3.eval()\n",
        "\n",
        "\n",
        "for inputs, labels in train_loader:\n",
        "    inputs, labels = inputs.to(device), labels.to(device)   # use GPU, if available\n",
        "\n",
        "    # Get model predictions for current batch sample\n",
        "    y_pred = model(inputs)\n",
        "    y_pred_1 = model_1(inputs)\n",
        "    y_pred_2 = model_2(inputs)\n",
        "    y_pred_3 = model_3(inputs)\n",
        "\n",
        "    # Get output labels for current batch samples\n",
        "    _, output = torch.max(y_pred, 1)                        \n",
        "                                                            \n",
        "    _, output_1 = torch.max(y_pred_1, 1)\n",
        "    _, output_2 = torch.max(y_pred_2, 1)\n",
        "    _, output_3 = torch.max(y_pred_3, 1)\n",
        "\n",
        "\n",
        "\n",
        "    \n",
        "    # Get total count of correct predictions\n",
        "    train_correct_preds[0] += torch.sum(output == labels).item()\n",
        "    train_correct_preds[1] += torch.sum(output_1 == labels).item()\n",
        "    train_correct_preds[2] += torch.sum(output_2 == labels).item()\n",
        "    train_correct_preds[3] += torch.sum(output_3 == labels).item()\n",
        "\n",
        "\n",
        "\n",
        "   \n",
        "    # Get count of wrong predictions for each label\n",
        "    for i in range(len(labels)):\n",
        "        if output[i] != labels[i]:\n",
        "            train_wrong_preds[labels[i].item()] += 1\n",
        "\n",
        "\n",
        "\n",
        "   \n",
        "    for sample_idx, label in enumerate(labels):\n",
        "        # Get scalar value\n",
        "        op_label = label.item()\n",
        "\n",
        "        # Get label's prediction probability\n",
        "        label_pred_value = y_pred[sample_idx][op_label].item()\n",
        "\n",
        "        # Check if the label probability is less than 0.6 (unsure prediction)\n",
        "        if label_pred_value < 0.6:\n",
        "\n",
        "            # Store y_pred[sample_idx] as list of tuple (label, probability value)\n",
        "            label_prob_list = [(label_val, prob) for label_val, prob in enumerate(y_pred[sample_idx].tolist())]\n",
        "\n",
        "            # Sort the list by the probability value in descending order\n",
        "            label_prob_list.sort(key = lambda tup: tup[1], reverse = True)\n",
        "\n",
        "            \n",
        "            if label_prob_list[0][0] != op_label:\n",
        "                top_unsure = label_prob_list[0]         # If the max predicted probability's label is not the same as the ground truth label,\n",
        "                                                        # just use that for top unsure\n",
        "            else:\n",
        "                # Get tuple (label, probability) for the first unsure label less than the label probability `label_pred_value`\n",
        "                top_unsure = label_prob_list[1] \n",
        "            \n",
        "\n",
        "            # Add the unsure labels to the corresponding label index of the matrix\n",
        "            unsure_matrix[op_label].append(top_unsure)\n",
        "\n",
        "            # Increase count of unsure labels\n",
        "            unsure_labels_count[op_label] += 1"
      ],
      "execution_count": null,
      "outputs": []
    },
    {
      "cell_type": "code",
      "metadata": {
        "id": "j9g_n5LQq2qI"
      },
      "source": [
        "# Change model state to eval\n",
        "model.eval()\n",
        "model_1.eval()\n",
        "model_2.eval()\n",
        "model_3.eval()\n",
        "\n",
        "for inputs, labels in test_loader:\n",
        "    \n",
        "    inputs, labels = inputs.to(device), labels.to(device)\n",
        "\n",
        "    # Get model predictions for current batch sample\n",
        "    y_pred = model(inputs)\n",
        "    y_pred_1 = model_1(inputs)\n",
        "    y_pred_2 = model_2(inputs)\n",
        "    y_pred_3 = model_3(inputs)\n",
        "\n",
        "    # Get output labels for current batch samples\n",
        "    _, output = torch.max(y_pred, 1)                       \n",
        "                                                            \n",
        "    _, output_1 = torch.max(y_pred_1, 1)\n",
        "    _, output_2 = torch.max(y_pred_2, 1)\n",
        "    _, output_3 = torch.max(y_pred_3, 1)\n",
        "\n",
        "\n",
        "    \n",
        "    # Get total count of correct predictions\n",
        "    test_correct_preds[0] += torch.sum(output == labels).item()\n",
        "    test_correct_preds[1] += torch.sum(output_1 == labels).item()\n",
        "    test_correct_preds[2] += torch.sum(output_2 == labels).item()\n",
        "    test_correct_preds[3] += torch.sum(output_3 == labels).item()\n",
        "\n",
        "\n",
        "   \n",
        "    # Get count of wrong predictions for each label\n",
        "    for i in range(len(labels)):\n",
        "        if output[i] != labels[i]:\n",
        "            test_wrong_preds[labels[i].item()] += 1\n",
        "\n",
        "\n",
        "# Change model state to training\n",
        "model.train()\n",
        "model_1.train()\n",
        "model_2.train()\n",
        "model_3.train()"
      ],
      "execution_count": null,
      "outputs": []
    },
    {
      "cell_type": "code",
      "metadata": {
        "id": "DzWeEvwL_AzE"
      },
      "source": [
        "plt.plot(range(len(loss_epoch_matrix[0])), loss_epoch_matrix[0])\n",
        "plt.xlabel('Epoch')\n",
        "plt.ylabel('Cross Entropy')\n",
        "plt.show()"
      ],
      "execution_count": null,
      "outputs": []
    },
    {
      "cell_type": "code",
      "metadata": {
        "id": "mJbjLiL-BXhb"
      },
      "source": [
        "plt.plot(range(len(loss_batches)), loss_batches)\n",
        "plt.xlabel('Minibatches')\n",
        "plt.ylabel('Cross Entropy')\n",
        "plt.show()"
      ],
      "execution_count": null,
      "outputs": []
    },
    {
      "cell_type": "code",
      "metadata": {
        "id": "oKyns53n7YyW"
      },
      "source": [
        "print(\"Training:\")\n",
        "print(\"number of data \", int(train_labels_total))\n",
        "print(\"number of wrongly predicted label \", int(train_labels_total - train_correct_preds[0]))\n",
        "print(f\"accuracy {train_correct_preds[0] * 100 / train_labels_total :.2f}%\")\n",
        "\n",
        "print(\"\\nTest:\")\n",
        "print(\"number of data \", int(test_labels_total))\n",
        "print(\"number of wrongly predicted label \", int(test_labels_total - test_correct_preds[0]))\n",
        "print(f\"accuracy {test_correct_preds[0] * 100 / test_labels_total :.2f}%\")"
      ],
      "execution_count": null,
      "outputs": []
    },
    {
      "cell_type": "code",
      "metadata": {
        "id": "OWJ7aLfA7Vbb"
      },
      "source": [
        "for unsure_labels in unsure_matrix:\n",
        "    counter = Counter(elem[0] for elem in unsure_labels)\n",
        "    max_val = max(counter.items(), key=operator.itemgetter(1))[0]\n",
        "    sum = 0\n",
        "    for label, prob in unsure_labels:\n",
        "        if label==max_val:\n",
        "            sum+=prob\n",
        "    top_unsure_labels.append([max_val, counter.get(max_val), sum/counter.get(max_val)])"
      ],
      "execution_count": null,
      "outputs": []
    },
    {
      "cell_type": "code",
      "metadata": {
        "id": "zDE7S5UVNR6K",
        "collapsed": true
      },
      "source": [
        "print(\"Unsure predictions on training dataset\\n\")\n",
        "print(\"Label\\t   #training samples\\t#times unsure\\t\\tpercentage %\\t\\ttop unsure label, x\\t\\t#times unsure with x\\t\\tAveraged P(x)\")\n",
        "for id, n in enumerate(train_labels_count):\n",
        "    if unsure_labels_count[id] < 10000:\n",
        "        print(f'{id}\\t\\t{int(n)}\\t\\t   {int(unsure_labels_count[id])}\\t\\t\\t   {unsure_labels_count[id] * 100 / n :.2f}%\\t\\t\\t{top_unsure_labels[id][0]}\\t\\t\\t\\t{top_unsure_labels[id][1]}\\t\\t\\t   {top_unsure_labels[id][2] :.2f}')\n",
        "    else:\n",
        "        print(f'{id}\\t\\t{int(n)}\\t\\t   {int(unsure_labels_count[id])}\\t\\t   {unsure_labels_count[id] * 100 / n :.2f}%\\t\\t\\t{top_unsure_labels[id][0]}\\t\\t\\t\\t{top_unsure_labels[id][1]}\\t\\t\\t   {top_unsure_labels[id][2] :.2f}')"
      ],
      "execution_count": null,
      "outputs": []
    },
    {
      "cell_type": "markdown",
      "metadata": {
        "id": "aWuHmKQd-0zC"
      },
      "source": [
        " label *40* has the highest percentage of unsure predictions."
      ]
    },
    {
      "cell_type": "code",
      "metadata": {
        "id": "GenIzWnQFMVb",
        "collapsed": true
      },
      "source": [
        "print(\"Prediction error on training dataset\\n\")\n",
        "\n",
        "print(\"Label\\t\\t# sample\\twrongly predicted\\tprediction error by labels (%)\\t\\tprediction error overall\")\n",
        "for i in range(47):\n",
        "    print(f'{i}\\t\\t  {int(train_labels_count[i])}\\t\\t\\t{int(train_wrong_preds[i])}\\t\\t\\t{train_wrong_preds[i] *100 / train_labels_count[i] :.2f}\\t\\t\\t\\t\\t{train_wrong_preds[i] *100 / train_labels_total :.2f}')"
      ],
      "execution_count": null,
      "outputs": []
    },
    {
      "cell_type": "code",
      "metadata": {
        "id": "mBcDhcQjfis2",
        "collapsed": true
      },
      "source": [
        "print(\"Prediction error on test dataset\\n\\n\")\n",
        "print(\"Label\\t\\t# sample\\twrongly predicted\\tprediction error by labels (%)\\t\\tprediction error overall\")\n",
        "for i in range(47):\n",
        "    print(f'{i}\\t\\t  {int(test_labels_count[i])}\\t\\t\\t{int(test_wrong_preds[i])}\\t\\t\\t{test_wrong_preds[i] *100 / test_labels_count[i] :.2f}\\t\\t\\t\\t\\t{test_wrong_preds[i] *100 / test_labels_total :.2f}')"
      ],
      "execution_count": null,
      "outputs": []
    },
    {
      "cell_type": "markdown",
      "metadata": {
        "id": "yxUUDp35-BLK"
      },
      "source": [
        "***Reflections***\n",
        "\n",
        "\n",
        "Label *40* has the highest prediction error by label %.  \n",
        "\n",
        "This does agree with the unsure prediction results, as label 40 also has the highest percentage of unsure predictions as well."
      ]
    },
    {
      "cell_type": "code",
      "metadata": {
        "id": "FwQ0mOnw5DAy"
      },
      "source": [
        "plt.plot(range(len(loss_epoch_matrix[0])), loss_epoch_matrix[0], label='Original model')\n",
        "plt.plot(range(len(loss_epoch_matrix[1])), loss_epoch_matrix[1], label='Same  w/o Dropout')\n",
        "plt.plot(range(len(loss_epoch_matrix[2])), loss_epoch_matrix[2], label='Same  w/ less parameters')\n",
        "plt.plot(range(len(loss_epoch_matrix[3])), loss_epoch_matrix[3], label='1 more layer')\n",
        "plt.xlabel('Epoch')\n",
        "plt.ylabel('Cross Entropy')\n",
        "plt.title('Training Loss')\n",
        "plt.legend()\n",
        "plt.show()"
      ],
      "execution_count": null,
      "outputs": []
    },
    {
      "cell_type": "code",
      "metadata": {
        "id": "F5yrcWK3cl4s"
      },
      "source": [
        "model_train_accuracy = [x*100/train_labels_total for x in train_correct_preds]\n",
        "model_test_accuracy = [x*100/test_labels_total for x in test_correct_preds]\n",
        "\n",
        "model_train_error = [(100 - x)/100 for x in model_train_accuracy]\n",
        "model_test_error = [(100 - x)/100 for x in model_test_accuracy]"
      ],
      "execution_count": null,
      "outputs": []
    },
    {
      "cell_type": "code",
      "metadata": {
        "id": "Va_DNaUUfKKZ"
      },
      "source": [
        "plt.plot(models_params, model_train_accuracy, marker='x', color='b', label='Training')\n",
        "plt.plot(models_params, model_test_accuracy, marker='^', color='r', label='Test')\n",
        "plt.xlabel('Model Parameters')\n",
        "plt.ylabel('Prediction Accuracy %')\n",
        "plt.title('Training and Test Accuracy')\n",
        "\n",
        "for i, txt in enumerate(model_txt):\n",
        "    plt.annotate(txt, (models_params[i], model_train_accuracy[i]))\n",
        "    plt.annotate(txt, (models_params[i], model_test_accuracy[i]))\n",
        "\n",
        "plt.legend()\n",
        "plt.show()"
      ],
      "execution_count": null,
      "outputs": []
    },
    {
      "cell_type": "code",
      "metadata": {
        "id": "9moLT-07gqfN"
      },
      "source": [
        "plt.plot(models_params, model_train_error, marker='x', color='b', label='Training')\n",
        "plt.plot(models_params, model_test_error, marker='^', color='r', label='Test')\n",
        "plt.xlabel('Model Parameters')\n",
        "plt.ylabel('Prediction Errors')\n",
        "plt.title('Training and Test Error')\n",
        "\n",
        "for i, txt in enumerate(model_txt):\n",
        "    plt.annotate(txt, (models_params[i], model_train_error[i]))\n",
        "    plt.annotate(txt, (models_params[i], model_test_error[i]))\n",
        "\n",
        "plt.legend()\n",
        "plt.show()"
      ],
      "execution_count": null,
      "outputs": []
    }
  ]
}